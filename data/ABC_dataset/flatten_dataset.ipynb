{
 "cells": [
  {
   "cell_type": "code",
   "execution_count": 28,
   "metadata": {},
   "outputs": [],
   "source": [
    "import os\n",
    "from shutil import copyfile, rmtree\n",
    "from tqdm import tqdm"
   ]
  },
  {
   "cell_type": "code",
   "execution_count": 29,
   "metadata": {},
   "outputs": [],
   "source": [
    "def flatten_dataset(dataset_path: str):\n",
    "    os.chdir(dataset_path)\n",
    "    folders = os.listdir()\n",
    "    \n",
    "    for i in tqdm(range(len(folders))):\n",
    "        os.chdir(dataset_path + \"\\\\\" + folders[i])\n",
    "        filename = os.listdir()\n",
    "        src = dataset_path + \"\\\\\" + folders[i] + \"\\\\\" + filename[0]\n",
    "        dst = dataset_path + \"\\\\\" + filename[0]        \n",
    "        copyfile(src, dst)        \n",
    "        os.chdir(dataset_path)        \n",
    "        rmtree(dataset_path + \"\\\\\" + folders[i], ignore_errors=True)        "
   ]
  },
  {
   "cell_type": "code",
   "execution_count": 30,
   "metadata": {},
   "outputs": [
    {
     "name": "stderr",
     "output_type": "stream",
     "text": [
      "100%|████████████████████████████████████████████████████████████████████████████████| 511/511 [00:09<00:00, 53.81it/s]\n"
     ]
    }
   ],
   "source": [
    "dataset_path = \"C:\\\\Users\\\\Johan\\\\LRZ Sync+Share\\\\tum_di_lab_datasets\\\\abc_dataset\"\n",
    "flatten_dataset(dataset_path)"
   ]
  }
 ],
 "metadata": {
  "kernelspec": {
   "display_name": "Python 3",
   "language": "python",
   "name": "python3"
  },
  "language_info": {
   "codemirror_mode": {
    "name": "ipython",
    "version": 3
   },
   "file_extension": ".py",
   "mimetype": "text/x-python",
   "name": "python",
   "nbconvert_exporter": "python",
   "pygments_lexer": "ipython3",
   "version": "3.8.5"
  }
 },
 "nbformat": 4,
 "nbformat_minor": 4
}
