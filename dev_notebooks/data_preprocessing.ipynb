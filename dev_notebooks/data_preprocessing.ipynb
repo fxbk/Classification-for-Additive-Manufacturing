{
 "cells": [
  {
   "cell_type": "code",
   "execution_count": 1,
   "metadata": {},
   "outputs": [],
   "source": [
    "import numpy as np\n",
    "import open3d as o3d\n",
    "import copy"
   ]
  },
  {
   "cell_type": "markdown",
   "metadata": {},
   "source": [
    "## File IO"
   ]
  },
  {
   "cell_type": "code",
   "execution_count": 2,
   "metadata": {},
   "outputs": [],
   "source": [
    "stl_mesh = o3d.io.read_triangle_mesh(\"stl_mesh.stl\")\n",
    "obj_mesh = o3d.io.read_triangle_mesh(\"obj_mesh.obj\")"
   ]
  },
  {
   "cell_type": "markdown",
   "metadata": {},
   "source": [
    "## Visualization"
   ]
  },
  {
   "cell_type": "code",
   "execution_count": 3,
   "metadata": {},
   "outputs": [],
   "source": [
    "mesh = obj_mesh\n",
    "mesh_frame = o3d.geometry.TriangleMesh.create_coordinate_frame(size=1.0, origin=[0, 0, 0])"
   ]
  },
  {
   "cell_type": "code",
   "execution_count": 4,
   "metadata": {},
   "outputs": [],
   "source": [
    "o3d.visualization.draw_geometries([mesh, mesh_frame])"
   ]
  },
  {
   "cell_type": "code",
   "execution_count": 5,
   "metadata": {},
   "outputs": [],
   "source": [
    "scaled_mesh = copy.deepcopy(mesh)\n",
    "scaled_mesh.scale(1 / np.max(scaled_mesh.get_max_bound() - scaled_mesh.get_min_bound()), center=scaled_mesh.get_center())\n",
    "o3d.visualization.draw_geometries([scaled_mesh, mesh_frame])"
   ]
  },
  {
   "cell_type": "markdown",
   "metadata": {},
   "source": [
    "## Normalization"
   ]
  },
  {
   "cell_type": "markdown",
   "metadata": {},
   "source": [
    "### Center the Mesh"
   ]
  },
  {
   "cell_type": "code",
   "execution_count": 6,
   "metadata": {},
   "outputs": [
    {
     "name": "stdout",
     "output_type": "stream",
     "text": [
      "[ 0.72569102 -0.68593362 10.31785828]\n",
      "[-7.68295749e-13 -6.04510797e-13 -5.92657940e-12]\n"
     ]
    }
   ],
   "source": [
    "print(mesh.get_center())\n",
    "centered_vertices = np.array(mesh.vertices) - mesh.get_center()\n",
    "mesh.vertices = o3d.utility.Vector3dVector(centered_vertices)\n",
    "print(mesh.get_center())"
   ]
  },
  {
   "cell_type": "markdown",
   "metadata": {},
   "source": [
    "### Scale the Points"
   ]
  },
  {
   "cell_type": "code",
   "execution_count": 7,
   "metadata": {},
   "outputs": [
    {
     "name": "stdout",
     "output_type": "stream",
     "text": [
      "[-33.08519572  -4.25436637 -42.67735916] [31.63381368  2.27343359 75.54260773]\n",
      "[-0.27986132 -0.03598687 -0.36099959] [0.26758436 0.01923054 0.63900041]\n"
     ]
    }
   ],
   "source": [
    "print(mesh.get_min_bound(), mesh.get_max_bound())\n",
    "mesh.scale(1 / np.max(mesh.get_max_bound() - mesh.get_min_bound()), center=mesh.get_center())\n",
    "print(mesh.get_min_bound(), mesh.get_max_bound())"
   ]
  },
  {
   "cell_type": "code",
   "execution_count": 8,
   "metadata": {},
   "outputs": [],
   "source": [
    "o3d.visualization.draw_geometries([mesh, mesh_frame])"
   ]
  },
  {
   "cell_type": "markdown",
   "metadata": {},
   "source": [
    " ## Alignment"
   ]
  },
  {
   "cell_type": "markdown",
   "metadata": {},
   "source": [
    "### Find Axis with Minimum Moment of Inertia"
   ]
  },
  {
   "cell_type": "markdown",
   "metadata": {},
   "source": [
    "*reference: https://physics.stackexchange.com/questions/426273/how-to-find-the-axis-with-minimum-moment-of-inertia*"
   ]
  },
  {
   "cell_type": "code",
   "execution_count": 9,
   "metadata": {},
   "outputs": [],
   "source": [
    "points = np.asarray(mesh.vertices)\n",
    "points_squared = np.square(points)"
   ]
  },
  {
   "cell_type": "code",
   "execution_count": 10,
   "metadata": {},
   "outputs": [],
   "source": [
    "# horizontal sum of Y and Z components\n",
    "I_xx = points_squared[:, 1:].sum(axis=1)\n",
    "# vertical sum\n",
    "I_xx = I_xx.sum(axis=0)\n",
    "\n",
    "# horizontal product of X and Y components\n",
    "I_xy = points[:, 0] * points[:, 1]\n",
    "# vertical sum\n",
    "I_xy = -I_xy.sum(axis=0)\n",
    "\n",
    "# horizontal product of X and Z components\n",
    "I_xz = points[:, 0] * points[:, 2]\n",
    "# vertical sum\n",
    "I_xz = -I_xz.sum(axis=0)\n",
    "\n",
    "# horizontal sum of X and Z components\n",
    "I_yy = points_squared[:, 0] + points_squared[:, 2]\n",
    "# vertical sum\n",
    "I_yy = I_yy.sum(axis=0)\n",
    "\n",
    "# horizontal product of Y and Z components\n",
    "I_yz = points[:, 1] * points[:, 2]\n",
    "# vertical sum\n",
    "I_yz = -I_yz.sum(axis=0)\n",
    "\n",
    "# horizontal sum of X and Y components\n",
    "I_zz = points_squared[:, 0] + points_squared[:, 1]\n",
    "# vertical sum\n",
    "I_zz = I_zz.sum(axis=0)"
   ]
  },
  {
   "cell_type": "code",
   "execution_count": 11,
   "metadata": {},
   "outputs": [],
   "source": [
    "inertia_tensor = np.array([[I_xx, I_xy, I_xz], [I_xy, I_yy, I_yz], [I_xz, I_yz, I_zz]])\n",
    "eigen_values, eigen_vectors = np.linalg.eigh(inertia_tensor)\n",
    "min_eigen_value_index = eigen_values.argmin()\n",
    "min_MOI_axis = eigen_vectors[:, min_eigen_value_index]"
   ]
  },
  {
   "cell_type": "markdown",
   "metadata": {},
   "source": [
    "### Align 2 Unit Vectors"
   ]
  },
  {
   "cell_type": "markdown",
   "metadata": {},
   "source": [
    "references:\n",
    "1. https://math.stackexchange.com/questions/180418/calculate-rotation-matrix-to-align-vector-a-to-vector-b-in-3d\n",
    "2. https://stackoverflow.com/questions/67017134/find-rotation-matrix-to-align-two-vectors"
   ]
  },
  {
   "cell_type": "code",
   "execution_count": 12,
   "metadata": {},
   "outputs": [],
   "source": [
    "def align_vectors_v1(a, b):\n",
    "    b = b / np.linalg.norm(b) # normalize a\n",
    "    a = a / np.linalg.norm(a) # normalize b\n",
    "    v = np.cross(a, b)\n",
    "    # s = np.linalg.norm(v)\n",
    "    c = np.dot(a, b)\n",
    "\n",
    "    v1, v2, v3 = v\n",
    "    h = 1 / (1 + c)\n",
    "\n",
    "    Vmat = np.array([[0, -v3, v2],\n",
    "                  [v3, 0, -v1],\n",
    "                  [-v2, v1, 0]])\n",
    "\n",
    "    R = np.eye(3, dtype=np.float64) + Vmat + (Vmat.dot(Vmat) * h)\n",
    "    return R"
   ]
  },
  {
   "cell_type": "code",
   "execution_count": 13,
   "metadata": {},
   "outputs": [],
   "source": [
    "def align_vectors_v2(a, b):\n",
    "    v = np.cross(a, b)\n",
    "    s = np.linalg.norm(v)\n",
    "    c = np.dot(a, b)\n",
    "\n",
    "    v1, v2, v3 = v\n",
    "    h = 1 / (1 + c)\n",
    "\n",
    "    Vmat = np.array([[0, -v3, v2],\n",
    "                  [v3, 0, -v1],\n",
    "                  [-v2, v1, 0]])\n",
    "\n",
    "    R = np.eye(3, dtype=np.float64) + Vmat + (Vmat.dot(Vmat) * h)\n",
    "    return R"
   ]
  },
  {
   "cell_type": "code",
   "execution_count": 14,
   "metadata": {},
   "outputs": [],
   "source": [
    "def angle(a, b):\n",
    "    \"\"\"Angle between vectors\"\"\"\n",
    "    a = a / np.linalg.norm(a)\n",
    "    b = b / np.linalg.norm(b)\n",
    "    return np.arccos(a.dot(b))"
   ]
  },
  {
   "cell_type": "markdown",
   "metadata": {},
   "source": [
    "### Visualize Alignment"
   ]
  },
  {
   "cell_type": "code",
   "execution_count": 15,
   "metadata": {},
   "outputs": [],
   "source": [
    "axis = np.array([0., 0., 1.])\n",
    "rotation = align_vectors_v1(min_MOI_axis, axis)"
   ]
  },
  {
   "cell_type": "code",
   "execution_count": 16,
   "metadata": {},
   "outputs": [],
   "source": [
    "min_MOI_axis = rotation.dot(min_MOI_axis)\n",
    "vertices_rotated = np.asarray(mesh.vertices).dot(rotation)\n",
    "mesh.vertices = o3d.utility.Vector3dVector(vertices_rotated)"
   ]
  },
  {
   "cell_type": "code",
   "execution_count": 25,
   "metadata": {},
   "outputs": [
    {
     "data": {
      "text/plain": [
       "0.0"
      ]
     },
     "execution_count": 25,
     "metadata": {},
     "output_type": "execute_result"
    }
   ],
   "source": [
    "angle(min_MOI_axis, axis)"
   ]
  },
  {
   "cell_type": "code",
   "execution_count": 17,
   "metadata": {},
   "outputs": [
    {
     "data": {
      "text/plain": [
       "LineSet with 1 lines."
      ]
     },
     "execution_count": 17,
     "metadata": {},
     "output_type": "execute_result"
    }
   ],
   "source": [
    "points = [\n",
    "    [0, 0, 0],\n",
    "    min_MOI_axis\n",
    "]\n",
    "\n",
    "lines = [\n",
    "    [0, 1]\n",
    "]\n",
    "\n",
    "line_set = o3d.geometry.LineSet(\n",
    "    points=o3d.utility.Vector3dVector(points),\n",
    "    lines=o3d.utility.Vector2iVector(lines)\n",
    ")\n",
    "\n",
    "line_set.scale(2, [0, 0, 0])"
   ]
  },
  {
   "cell_type": "code",
   "execution_count": 18,
   "metadata": {},
   "outputs": [],
   "source": [
    "mesh_frame = o3d.geometry.TriangleMesh.create_coordinate_frame(size=1.0, origin=[0, 0, 0])\n",
    "o3d.visualization.draw_geometries([mesh, mesh_frame, line_set])"
   ]
  },
  {
   "cell_type": "markdown",
   "metadata": {},
   "source": [
    "## Voxelization"
   ]
  },
  {
   "cell_type": "code",
   "execution_count": 20,
   "metadata": {},
   "outputs": [],
   "source": [
    "voxel_grid = o3d.geometry.VoxelGrid.create_from_triangle_mesh(mesh, voxel_size=0.02)\n",
    "o3d.visualization.draw_geometries([voxel_grid])"
   ]
  },
  {
   "cell_type": "code",
   "execution_count": 24,
   "metadata": {},
   "outputs": [
    {
     "data": {
      "text/plain": [
       "array([Voxel with grid_index: (5, 3, 23), color: (0, 0, 0),\n",
       "       Voxel with grid_index: (2, 2, 21), color: (0, 0, 0),\n",
       "       Voxel with grid_index: (15, 1, 25), color: (0, 0, 0),\n",
       "       Voxel with grid_index: (1, 1, 9), color: (0, 0, 0),\n",
       "       Voxel with grid_index: (6, 2, 8), color: (0, 0, 0)], dtype=object)"
      ]
     },
     "execution_count": 24,
     "metadata": {},
     "output_type": "execute_result"
    }
   ],
   "source": [
    "np.array(voxel_grid.get_voxels())[:5]"
   ]
  },
  {
   "cell_type": "code",
   "execution_count": null,
   "metadata": {},
   "outputs": [],
   "source": []
  }
 ],
 "metadata": {
  "kernelspec": {
   "display_name": "Python 3",
   "language": "python",
   "name": "python3"
  },
  "language_info": {
   "codemirror_mode": {
    "name": "ipython",
    "version": 3
   },
   "file_extension": ".py",
   "mimetype": "text/x-python",
   "name": "python",
   "nbconvert_exporter": "python",
   "pygments_lexer": "ipython3",
   "version": "3.8.5"
  }
 },
 "nbformat": 4,
 "nbformat_minor": 4
}
