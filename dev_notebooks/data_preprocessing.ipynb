{
 "cells": [
  {
   "cell_type": "code",
   "execution_count": 39,
   "metadata": {},
   "outputs": [],
   "source": [
    "import numpy as np\n",
    "import open3d as o3d"
   ]
  },
  {
   "cell_type": "markdown",
   "metadata": {},
   "source": [
    "## File IO"
   ]
  },
  {
   "cell_type": "code",
   "execution_count": 55,
   "metadata": {},
   "outputs": [],
   "source": [
    "stl_mesh = o3d.io.read_triangle_mesh(\"stl_mesh.stl\")\n",
    "obj_mesh = o3d.io.read_triangle_mesh(\"obj_mesh.obj\")"
   ]
  },
  {
   "cell_type": "code",
   "execution_count": 57,
   "metadata": {},
   "outputs": [
    {
     "name": "stdout",
     "output_type": "stream",
     "text": [
      "stl_mesh_vertices shape (13188, 3)\n",
      "stl_mesh_triangles shape (4396, 3)\n",
      "obj_mesh_vertices shape (134082, 3)\n",
      "obj_mesh_triangles shape (44694, 3)\n"
     ]
    }
   ],
   "source": [
    "stl_mesh_vertices =  np.asarray(stl_mesh.vertices)\n",
    "stl_mesh_triangles =  np.asarray(stl_mesh.triangles)\n",
    "\n",
    "obj_mesh_vertices =  np.asarray(obj_mesh.vertices)\n",
    "obj_mesh_triangles =  np.asarray(obj_mesh.triangles)\n",
    "\n",
    "print('stl_mesh_vertices shape', stl_mesh_vertices.shape)\n",
    "print('stl_mesh_triangles shape', stl_mesh_triangles.shape)\n",
    "\n",
    "print('obj_mesh_vertices shape', obj_mesh_vertices.shape)\n",
    "print('obj_mesh_triangles shape', obj_mesh_triangles.shape)"
   ]
  },
  {
   "cell_type": "markdown",
   "metadata": {},
   "source": [
    "## Voxelization and Visualization"
   ]
  },
  {
   "cell_type": "code",
   "execution_count": 60,
   "metadata": {},
   "outputs": [],
   "source": [
    "mesh = obj_mesh\n",
    "\n",
    "mesh.scale(1 / np.max(mesh.get_max_bound() - mesh.get_min_bound()), center=mesh.get_center())\n",
    "o3d.visualization.draw_geometries([mesh])\n",
    "\n",
    "voxel_grid = o3d.geometry.VoxelGrid.create_from_triangle_mesh(mesh, voxel_size=0.05)\n",
    "o3d.visualization.draw_geometries([voxel_grid])"
   ]
  },
  {
   "cell_type": "code",
   "execution_count": 69,
   "metadata": {},
   "outputs": [],
   "source": [
    "mesh = stl_mesh\n",
    "\n",
    "mesh.scale(1 / np.max(mesh.get_max_bound() - mesh.get_min_bound()), center=mesh.get_center())\n",
    "o3d.visualization.draw_geometries([mesh])\n",
    "\n",
    "voxel_grid = o3d.geometry.VoxelGrid.create_from_triangle_mesh(mesh, voxel_size=0.0075)\n",
    "o3d.visualization.draw_geometries([voxel_grid])"
   ]
  },
  {
   "cell_type": "code",
   "execution_count": null,
   "metadata": {},
   "outputs": [],
   "source": []
  }
 ],
 "metadata": {
  "kernelspec": {
   "display_name": "Python 3",
   "language": "python",
   "name": "python3"
  },
  "language_info": {
   "codemirror_mode": {
    "name": "ipython",
    "version": 3
   },
   "file_extension": ".py",
   "mimetype": "text/x-python",
   "name": "python",
   "nbconvert_exporter": "python",
   "pygments_lexer": "ipython3",
   "version": "3.8.5"
  }
 },
 "nbformat": 4,
 "nbformat_minor": 4
}
