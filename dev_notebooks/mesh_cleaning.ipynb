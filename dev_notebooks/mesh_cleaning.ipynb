{
 "cells": [
  {
   "cell_type": "code",
   "execution_count": 1,
   "metadata": {},
   "outputs": [],
   "source": [
    "import numpy as np\n",
    "import open3d as o3d\n",
    "import copy\n",
    "import trimesh\n",
    "import matplotlib.pyplot as plt\n",
    "from mpl_toolkits.mplot3d import Axes3D"
   ]
  },
  {
   "cell_type": "markdown",
   "metadata": {},
   "source": [
    "## File IO"
   ]
  },
  {
   "cell_type": "code",
   "execution_count": 2,
   "metadata": {},
   "outputs": [],
   "source": [
    "stl_mesh = o3d.io.read_triangle_mesh(\"stl_mesh.stl\")\n",
    "obj_mesh = o3d.io.read_triangle_mesh(\"obj_mesh.obj\")"
   ]
  },
  {
   "cell_type": "markdown",
   "metadata": {},
   "source": [
    "## Visualization"
   ]
  },
  {
   "cell_type": "code",
   "execution_count": 3,
   "metadata": {},
   "outputs": [],
   "source": [
    "mesh = obj_mesh\n",
    "mesh_frame = o3d.geometry.TriangleMesh.create_coordinate_frame(size=1.0, origin=[0, 0, 0])"
   ]
  },
  {
   "cell_type": "code",
   "execution_count": 4,
   "metadata": {},
   "outputs": [],
   "source": [
    "# o3d.visualization.draw_geometries([mesh, mesh_frame])"
   ]
  },
  {
   "cell_type": "code",
   "execution_count": 5,
   "metadata": {},
   "outputs": [],
   "source": [
    "# scaled_mesh = copy.deepcopy(mesh)\n",
    "# scaled_mesh.scale(1 / np.max(scaled_mesh.get_max_bound() - scaled_mesh.get_min_bound()), center=scaled_mesh.get_center())\n",
    "# o3d.visualization.draw_geometries([scaled_mesh, mesh_frame])"
   ]
  },
  {
   "cell_type": "markdown",
   "metadata": {},
   "source": [
    "## Mesh Cleaning"
   ]
  },
  {
   "cell_type": "markdown",
   "metadata": {},
   "source": [
    "*reference: https://support.shapeways.com/hc/en-us/articles/360007107674-Tips-for-successful-modeling*"
   ]
  },
  {
   "cell_type": "code",
   "execution_count": 20,
   "metadata": {},
   "outputs": [
    {
     "data": {
      "text/plain": [
       "TriangleMesh with 134082 points and 44694 triangles."
      ]
     },
     "execution_count": 20,
     "metadata": {},
     "output_type": "execute_result"
    }
   ],
   "source": [
    "mesh"
   ]
  },
  {
   "cell_type": "code",
   "execution_count": 21,
   "metadata": {},
   "outputs": [],
   "source": [
    "o3d.visualization.draw_geometries([mesh])"
   ]
  },
  {
   "cell_type": "code",
   "execution_count": 24,
   "metadata": {},
   "outputs": [],
   "source": [
    "processed_mesh = copy.deepcopy(mesh)"
   ]
  },
  {
   "cell_type": "markdown",
   "metadata": {},
   "source": [
    "## Checks"
   ]
  },
  {
   "cell_type": "code",
   "execution_count": 25,
   "metadata": {},
   "outputs": [
    {
     "name": "stdout",
     "output_type": "stream",
     "text": [
      "True\n",
      "True\n",
      "False\n"
     ]
    }
   ],
   "source": [
    "# tests if all vertices are manifold\n",
    "print(processed_mesh.is_vertex_manifold())\n",
    "# tests if all edges are manifold\n",
    "# [allow_boundary_edges=True] non-manifold edges: edges with adjacent triangles > 2 \n",
    "# [allow_boundary_edges=False] non-manifold edges: edges with adjacent triangles != 2 \n",
    "print(processed_mesh.is_edge_manifold(allow_boundary_edges=True))\n",
    "# tests if the mesh is watertight\n",
    "print(processed_mesh.is_watertight())"
   ]
  },
  {
   "cell_type": "markdown",
   "metadata": {},
   "source": [
    "## Fix Vertices"
   ]
  },
  {
   "cell_type": "code",
   "execution_count": 26,
   "metadata": {},
   "outputs": [
    {
     "data": {
      "text/plain": [
       "IntVector[]"
      ]
     },
     "execution_count": 26,
     "metadata": {},
     "output_type": "execute_result"
    }
   ],
   "source": [
    "# removes vertices that have identical coordinates\n",
    "processed_mesh.remove_duplicated_vertices()\n",
    "# removes vertices that are not referenced in any triangle\n",
    "processed_mesh.remove_unreferenced_vertices()\n",
    "# returns a list of indices to non-manifold vertices\n",
    "processed_mesh.get_non_manifold_vertices()"
   ]
  },
  {
   "cell_type": "markdown",
   "metadata": {},
   "source": [
    "## Fix Edges"
   ]
  },
  {
   "cell_type": "code",
   "execution_count": 27,
   "metadata": {},
   "outputs": [
    {
     "data": {
      "text/plain": [
       "TriangleMesh with 22332 points and 44690 triangles."
      ]
     },
     "execution_count": 27,
     "metadata": {},
     "output_type": "execute_result"
    }
   ],
   "source": [
    "# returns a list of indices of non-manifold edges\n",
    "# [allow_boundary_edges=True] non-manifold edges: edges with adjacent triangles > 2 \n",
    "# [allow_boundary_edges=False] non-manifold edges: edges with adjacent triangles != 2 \n",
    "processed_mesh.get_non_manifold_edges(allow_boundary_edges=True)\n",
    "# removes all non-manifold edges\n",
    "# by successively deleting triangles with the smallest surface area \n",
    "# adjacent to the non-manifold edge until the number of adjacent \n",
    "# triangles to the edge is <= 2\n",
    "processed_mesh.remove_non_manifold_edges()"
   ]
  },
  {
   "cell_type": "markdown",
   "metadata": {},
   "source": [
    "## Fix Triangles"
   ]
  },
  {
   "cell_type": "code",
   "execution_count": 28,
   "metadata": {},
   "outputs": [
    {
     "data": {
      "text/plain": [
       "TriangleMesh with 22332 points and 44690 triangles."
      ]
     },
     "execution_count": 28,
     "metadata": {},
     "output_type": "execute_result"
    }
   ],
   "source": [
    "# removes triangles that reference the same three vertices\n",
    "processed_mesh.remove_duplicated_triangles()\n",
    "# removes triangles that reference a single vertex multiple times in a single triangle\n",
    "# usually happens as a result of removing duplicated vertices\n",
    "processed_mesh.remove_degenerate_triangles()"
   ]
  },
  {
   "cell_type": "code",
   "execution_count": 29,
   "metadata": {},
   "outputs": [],
   "source": [
    "o3d.visualization.draw_geometries([processed_mesh])"
   ]
  },
  {
   "cell_type": "markdown",
   "metadata": {},
   "source": [
    "## TriMesh"
   ]
  },
  {
   "cell_type": "code",
   "execution_count": 32,
   "metadata": {},
   "outputs": [
    {
     "name": "stdout",
     "output_type": "stream",
     "text": [
      "False\n",
      "False\n"
     ]
    }
   ],
   "source": [
    "# mesh = o3d.io.read_triangle_mesh(\"bunny.obj\")\n",
    "tri_mesh = trimesh.Trimesh(vertices=np.array(mesh.vertices), faces=np.array(mesh.triangles))\n",
    "print(tri_mesh.is_watertight)\n",
    "tri_mesh.fill_holes()\n",
    "tri_mesh.fix_normals()\n",
    "print(tri_mesh.is_watertight)"
   ]
  },
  {
   "cell_type": "code",
   "execution_count": null,
   "metadata": {},
   "outputs": [],
   "source": []
  }
 ],
 "metadata": {
  "kernelspec": {
   "display_name": "Python 3",
   "language": "python",
   "name": "python3"
  },
  "language_info": {
   "codemirror_mode": {
    "name": "ipython",
    "version": 3
   },
   "file_extension": ".py",
   "mimetype": "text/x-python",
   "name": "python",
   "nbconvert_exporter": "python",
   "pygments_lexer": "ipython3",
   "version": "3.8.5"
  }
 },
 "nbformat": 4,
 "nbformat_minor": 4
}
